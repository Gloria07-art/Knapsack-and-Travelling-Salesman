{
 "cells": [
  {
   "cell_type": "markdown",
   "id": "ee6e7fa7",
   "metadata": {},
   "source": [
    "## Question 1"
   ]
  },
  {
   "cell_type": "code",
   "execution_count": 2,
   "id": "294a97f9",
   "metadata": {},
   "outputs": [
    {
     "name": "stdout",
     "output_type": "stream",
     "text": [
      "Items that satisfy the weight limit and yield maximum profit:  (11,3),(13,4),(8,3),(25,12),(6,3),(7,5),and profit = 70\n"
     ]
    }
   ],
   "source": [
    "class Item:\n",
    "    def __init__(self, value, weight):\n",
    "        self.value = value\n",
    "        self.weight = weight\n",
    "    \n",
    "def ratio(item):\n",
    "    return item.value / item.weight\n",
    "\n",
    "def Knapsack(W, items):\n",
    "    items.sort(key=ratio, reverse=True)\n",
    "    \n",
    "    final_value = 0\n",
    "    selected_items = []\n",
    "    \n",
    "    for item in items:\n",
    "        if item.weight <= W:\n",
    "            W -= item.weight\n",
    "            final_value += item.value\n",
    "            selected_items.append((item.value, item.weight))\n",
    "        else:\n",
    "            continue  # Explore other items that might fit\n",
    "    \n",
    "    # If the current selection doesn’t meet the expected value, explore other combinations\n",
    "    remaining_capacity = W\n",
    "    for item in items:\n",
    "        if remaining_capacity >= item.weight and item not in selected_items:\n",
    "            selected_items.append((item.value, item.weight))\n",
    "            final_value += item.value\n",
    "            break  # Stop after adding one item that maximizes value\n",
    "    \n",
    "    # Printing selected items\n",
    "    for v, w in selected_items:\n",
    "        print(f\"({v},{w})\", end=\",\")\n",
    "    print(\"and profit = \", end=\"\")\n",
    "    \n",
    "    return final_value\n",
    "\n",
    "if __name__ == \"__main__\":\n",
    "    W = 30  # capacity of knapsack\n",
    "    items = [\n",
    "        Item(2, 7), Item(6, 3), Item(8, 3), Item(7, 5), Item(3, 4), Item(4, 7), \n",
    "        Item(6, 5), Item(5, 4), Item(10, 15), Item(9, 10), Item(8, 17), Item(11, 3), \n",
    "        Item(12, 6), Item(15, 11), Item(6, 6), Item(8, 14), Item(13, 4), Item(14, 8), \n",
    "        Item(15, 9), Item(16, 10), Item(13, 14), Item(14, 17), Item(15, 9), Item(26, 24), \n",
    "        Item(13, 11), Item(9, 17), Item(25, 12), Item(26, 14)\n",
    "    ]\n",
    "    \n",
    "    print(\"Items that satisfy the weight limit and yield maximum profit: \", end=\" \")\n",
    "    fvalue = Knapsack(W, items)\n",
    "    print(fvalue)\n"
   ]
  },
  {
   "cell_type": "markdown",
   "id": "37238636",
   "metadata": {},
   "source": [
    "## Question 2"
   ]
  },
  {
   "cell_type": "code",
   "execution_count": 8,
   "id": "b8a28d11",
   "metadata": {},
   "outputs": [
    {
     "name": "stdout",
     "output_type": "stream",
     "text": [
      "Final Solution (Route): [1, 7, 6, 5, 4, 3, 2]\n",
      "Optimal Distance: 10.50\n"
     ]
    }
   ],
   "source": [
    "import numpy as np\n",
    "\n",
    "def calculate_total_distance(solution, distance_matrix):\n",
    "    total_distance = 0\n",
    "    num_cities = len(solution)\n",
    "    for i in range(num_cities - 1):\n",
    "        from_city = solution[i] - 1  # Subtract 1 for 0-based indexing\n",
    "        to_city = solution[i + 1] - 1  # Subtract 1 for 0-based indexing\n",
    "        total_distance += distance_matrix[from_city][to_city]\n",
    "    # Add the distance from the last city back to the starting city\n",
    "    total_distance += distance_matrix[solution[-1] - 1][solution[0] - 1]  # Subtract 1 for 0-based indexing\n",
    "    return total_distance\n",
    "\n",
    "def two_opt_swap(solution, i, j):\n",
    "    new_solution = solution[:]\n",
    "    new_solution[i:j+1] = reversed(new_solution[i:j+1])\n",
    "    return new_solution\n",
    "\n",
    "def two_opt(distance_matrix, starting_solution):\n",
    "    num_cities = len(starting_solution)\n",
    "    best_solution = starting_solution\n",
    "    best_distance = calculate_total_distance(best_solution, distance_matrix)\n",
    "    improving_solutions = []\n",
    "    \n",
    "    improvement = True\n",
    "    while improvement:\n",
    "        improvement = False\n",
    "        for i in range(1, num_cities - 2):\n",
    "            for j in range(i + 1, num_cities - 1):\n",
    "                new_solution = two_opt_swap(best_solution, i, j)\n",
    "                new_distance = calculate_total_distance(new_solution, distance_matrix)\n",
    "                if new_distance < best_distance:\n",
    "                    best_solution = new_solution\n",
    "                    best_distance = new_distance\n",
    "                    improving_solutions.append((best_solution, best_distance))\n",
    "                    improvement = True\n",
    "                     \n",
    "    return best_solution, best_distance, improving_solutions\n",
    "\n",
    "# Distance Matrix\n",
    "distance_matrix = np.array([\n",
    "    [0, 1.5, 3, 13, 3.5, 4.5, 1.5],\n",
    "    [1.5, 0, 1.5, 1.3, 13, 13, 2.3],\n",
    "    [3, 1.5, 0, 1.5, 3, 13, 3],\n",
    "    [13, 1.3, 1.5, 0, 1.5, 13, 20],\n",
    "    [3.5, 13, 3, 1.5, 0, 1.5, 3.3],\n",
    "    [4.5, 13, 13, 13, 1.5, 0, 1.5],\n",
    "    [1.5, 2.3, 3, 20, 3.3 ,1.5, 0]\n",
    "])\n",
    "\n",
    "# Starting Solution (as provided)\n",
    "starting_solution = [1, 3, 5, 7, 4, 6, 2]\n",
    "\n",
    "# Run the 2-opt algorithm\n",
    "final_solution, optimal_distance, improving_solutions = two_opt(distance_matrix, starting_solution)\n",
    "\n",
    "# Print the results\n",
    "print(\"Final Solution (Route):\", final_solution)\n",
    "print(\"Optimal Distance: {:.2f}\".format(optimal_distance))"
   ]
  },
  {
   "cell_type": "code",
   "execution_count": null,
   "id": "655846e4",
   "metadata": {},
   "outputs": [],
   "source": []
  }
 ],
 "metadata": {
  "kernelspec": {
   "display_name": "Python 3 (ipykernel)",
   "language": "python",
   "name": "python3"
  },
  "language_info": {
   "codemirror_mode": {
    "name": "ipython",
    "version": 3
   },
   "file_extension": ".py",
   "mimetype": "text/x-python",
   "name": "python",
   "nbconvert_exporter": "python",
   "pygments_lexer": "ipython3",
   "version": "3.11.5"
  }
 },
 "nbformat": 4,
 "nbformat_minor": 5
}
